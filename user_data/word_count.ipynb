{
 "cells": [
  {
   "cell_type": "code",
   "execution_count": null,
   "id": "fbc595f6-41d4-4af0-b594-a57288c27548",
   "metadata": {},
   "outputs": [
    {
     "name": "stderr",
     "output_type": "stream",
     "text": [
      "Setting default log level to \"WARN\".\n",
      "To adjust logging level use sc.setLogLevel(newLevel). For SparkR, use setLogLevel(newLevel).\n",
      "25/06/07 18:19:58 WARN NativeCodeLoader: Unable to load native-hadoop library for your platform... using builtin-java classes where applicable\n",
      "25/06/07 18:19:59 WARN Utils: Service 'SparkUI' could not bind on port 4040. Attempting port 4041.\n",
      "25/06/07 18:20:01 WARN Client: Neither spark.yarn.jars nor spark.yarn.archive is set, falling back to uploading libraries under SPARK_HOME.\n"
     ]
    }
   ],
   "source": [
    "import findspark\n",
    "from pyspark.sql.session import SparkSession\n",
    "from pyspark import SparkContext, SparkConf\n",
    "\n",
    "\n",
    "\n",
    "# Inicializando Spark\n",
    "findspark.init(\"/usr/spark-3.5.0/\")\n",
    "\n",
    "\n",
    "spark = (\n",
    "    SparkSession.builder.appName(\"sparksubmit_test_app\")\n",
    "    .config(\"spark.sql.warehouse.dir\", \"hdfs:///user/hive/warehouse\")\n",
    "    .config(\"spark.sql.catalogImplementation\", \"hive\")\n",
    "    .getOrCreate()\n",
    ")\n",
    "\n",
    "# criar um contexto de sessão do spark (cria um \"programa\")\n",
    "sc = SparkContext.getOrCreate()\n",
    "\n",
    "\n",
    "\n",
    "def main():\n",
    "\n",
    "    df = spark.read.text(\"hdfs://spark-master:9000/datasets/\")  # noqa: F841\n",
    "\n",
    "    # variável recebe o caminho que aponta para uma arquivo de texto\n",
    "    file_path = \"/datasets/*.txt\"\n",
    "    # leitura do arquivo de texto pelo programa spark\n",
    "    words = sc.textFile(f\"{file_path}\").flatMap(lambda line: line.split(\" \"))\n",
    "    # contagem de palavras utilizando a sintaxe facilitada do pyspark\n",
    "    wordCounts = words.map(lambda word: (word, 1)).reduceByKey(lambda a,b:a +b)\n",
    "    # salvando arquivo com resultado da execução\n",
    "    wordCounts.saveAsTextFile(f\"{'/'.join(file_path.split('/')[:-1])}/word_count\")\n",
    "   \n",
    "    print(wordCounts.count())\n",
    "    print(wordCounts.countApproxDistinct())\n",
    "\n",
    "\n",
    "if __name__ == \"__main__\":\n",
    "    main()\n",
    "\n",
    "\n",
    "\n",
    "spark.stop()"
   ]
  },
  {
   "cell_type": "code",
   "execution_count": null,
   "id": "d9d1ac50-1f98-44c8-be3b-ecd10d85c4de",
   "metadata": {},
   "outputs": [],
   "source": []
  }
 ],
 "metadata": {
  "kernelspec": {
   "display_name": "Python 3 (ipykernel)",
   "language": "python",
   "name": "python3"
  },
  "language_info": {
   "codemirror_mode": {
    "name": "ipython",
    "version": 3
   },
   "file_extension": ".py",
   "mimetype": "text/x-python",
   "name": "python",
   "nbconvert_exporter": "python",
   "pygments_lexer": "ipython3",
   "version": "3.9.2"
  }
 },
 "nbformat": 4,
 "nbformat_minor": 5
}
