{
 "cells": [
  {
   "cell_type": "code",
   "execution_count": 1,
   "id": "c7f517dc-ae40-4b4d-a662-781924d32285",
   "metadata": {},
   "outputs": [
    {
     "name": "stdout",
     "output_type": "stream",
     "text": [
      "bash: import: command not found\n",
      "bash: from: command not found\n",
      "bash: from: command not found\n",
      "bash: syntax error near unexpected token `\"/usr/spark-3.5.0/\"'\n",
      "bash: syntax error near unexpected token `('\n",
      "bash: syntax error near unexpected token `\"sparksubmit_test_app\"'\n",
      "bash: syntax error near unexpected token `\"spark.sql.warehouse.dir\",'\n",
      "bash: syntax error near unexpected token `\"spark.sql.catalogImplementation\",'\n",
      "bash: syntax error near unexpected token `)'\n",
      "bash: syntax error near unexpected token `('\n",
      "bash: syntax error near unexpected token `('\n",
      "bash: syntax error near unexpected token `('\n",
      "bash: file_path: command not found\n",
      "bash: syntax error near unexpected token `('\n",
      "bash: syntax error near unexpected token `('\n",
      "bash: syntax error near unexpected token `f\"{'/'.join(file_path.split('/')[:-1])}/word_count\"'\n",
      "bash: syntax error near unexpected token `wordCounts.count'\n",
      "bash: syntax error near unexpected token `wordCounts.countApproxDistinct'\n",
      "bash: syntax error near unexpected token `spark.stop'\n"
     ]
    },
    {
     "ename": "",
     "evalue": "2",
     "output_type": "error",
     "traceback": []
    }
   ],
   "source": [
    "import findspark\n",
    "from pyspark.sql.session import SparkSession\n",
    "from pyspark import SparkContext, SparkConf\n",
    "\n",
    "\n",
    "\n",
    "# Inicializando Spark\n",
    "findspark.init(\"/usr/spark-3.5.0/\")\n",
    "\n",
    "\n",
    "spark = (\n",
    "    SparkSession.builder.appName(\"sparksubmit_test_app\")\n",
    "    .config(\"spark.sql.warehouse.dir\", \"hdfs:///user/hive/warehouse\")\n",
    "    .config(\"spark.sql.catalogImplementation\", \"hive\")\n",
    "    .getOrCreate()\n",
    ")\n",
    "\n",
    "# criar um contexto de sessão do spark (cria um \"programa\")\n",
    "sc = SparkContext.getOrCreate()\n",
    "\n",
    "\n",
    "\n",
    "def main():\n",
    "\n",
    "    df = spark.read.text(\"hdfs://spark-master:9000/datasets/\")  # noqa: F841\n",
    "\n",
    "    # variável recebe o caminho que aponta para uma arquivo de texto\n",
    "    file_path = \"/datasets/*.txt\"\n",
    "    # leitura do arquivo de texto pelo programa spark\n",
    "    words = sc.textFile(f\"{file_path}\").flatMap(lambda line: line.split(\" \"))\n",
    "    # contagem de palavras utilizando a sintaxe facilitada do pyspark\n",
    "    wordCounts = words.map(lambda word: (word, 1)).reduceByKey(lambda a,b:a +b)\n",
    "    # salvando arquivo com resultado da execução\n",
    "    wordCounts.saveAsTextFile(f\"{'/'.join(file_path.split('/')[:-1])}/word_count\")\n",
    "   \n",
    "    print(wordCounts.count())\n",
    "    print(wordCounts.countApproxDistinct())\n",
    "\n",
    "\n",
    "if __name__ == \"__main__\":\n",
    "    main()\n",
    "\n",
    "\n",
    "\n",
    "spark.stop()"
   ]
  },
  {
   "cell_type": "code",
   "execution_count": null,
   "id": "3c12c981-0a86-4892-80fe-cadab2622512",
   "metadata": {},
   "outputs": [],
   "source": []
  }
 ],
 "metadata": {
  "kernelspec": {
   "display_name": "Python 3 (ipykernel)",
   "language": "python",
   "name": "python3"
  },
  "language_info": {
   "codemirror_mode": {
    "name": "ipython",
    "version": 3
   },
   "file_extension": ".py",
   "mimetype": "text/x-python",
   "name": "python",
   "nbconvert_exporter": "python",
   "pygments_lexer": "ipython3",
   "version": "3.9.2"
  }
 },
 "nbformat": 4,
 "nbformat_minor": 5
}
